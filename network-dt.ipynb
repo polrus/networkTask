{
 "cells": [
  {
   "cell_type": "markdown",
   "id": "3709ac50",
   "metadata": {},
   "source": [
    "Human genetic evidence helps identify causal links between drug targets and diseases and is a strong predictor of approval success. An analysis of FDA approvals from 2013–2022 shows that 63% (271/428) of new drugs had genetic support, with annual rates between 41–72%.\n",
    "\n",
    "Notably, some approved targets lack direct genetic evidence but are connected through physical or functional interaction with genetically implicated proteins. This highlights the importance of considering not just direct associations but also interaction networks in target evaluation (see fig)."
   ]
  },
  {
   "cell_type": "markdown",
   "id": "d7a3e529",
   "metadata": {},
   "source": [
    "This analysis aims to assess how many advanced drug targets are supported by genetic evidence when interaction networks are taken into account."
   ]
  },
  {
   "cell_type": "code",
   "execution_count": null,
   "id": "a24a9e50",
   "metadata": {},
   "outputs": [],
   "source": []
  },
  {
   "cell_type": "code",
   "execution_count": null,
   "metadata": {},
   "outputs": [],
   "source": []
  },
  {
   "cell_type": "code",
   "execution_count": null,
   "id": "c1a32385",
   "metadata": {},
   "outputs": [],
   "source": []
  },
  {
   "cell_type": "code",
   "execution_count": null,
   "metadata": {},
   "outputs": [],
   "source": []
  }
 ],
 "metadata": {
  "kernelspec": {
   "display_name": "base",
   "language": "python",
   "name": "python3"
  },
  "language_info": {
   "codemirror_mode": {
    "name": "ipython",
    "version": 3
   },
   "file_extension": ".py",
   "mimetype": "text/x-python",
   "name": "python",
   "nbconvert_exporter": "python",
   "pygments_lexer": "ipython3",
   "version": "3.11.8"
  }
 },
 "nbformat": 4,
 "nbformat_minor": 5
}
